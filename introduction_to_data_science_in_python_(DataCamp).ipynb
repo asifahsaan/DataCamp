{
  "nbformat": 4,
  "nbformat_minor": 0,
  "metadata": {
    "colab": {
      "provenance": []
    },
    "kernelspec": {
      "name": "python3",
      "display_name": "Python 3"
    },
    "language_info": {
      "name": "python"
    }
  },
  "cells": [
    {
      "cell_type": "markdown",
      "source": [
        "# **Getting Started in Python**\n",
        "Welcome to the wonderful world of Data Analysis in Python! In this chapter, you'll learn the basics of Python syntax, load your first Python modules, and use functions to get a suspect list for the kidnapping of Bayes, DataCamp's prize-winning Golden Retriever."
      ],
      "metadata": {
        "id": "musa2Zg2Adyd"
      }
    },
    {
      "cell_type": "markdown",
      "source": [
        "## **Importing Python modules**\n",
        "Modules (sometimes called packages or libraries) help group together related sets of tools in Python. In this exercise, we'll examine two modules that are frequently used by Data Scientists:\n",
        "\n",
        "statsmodels: used in machine learning; usually aliased as sm\n",
        "seaborn: a visualization library; usually aliased as sns\n",
        "Note that each module has a standard alias, which allows you to access the tools inside of the module without typing as many characters. For example, aliasing lets us shorten seaborn.scatterplot() to sns.scatterplot()."
      ],
      "metadata": {
        "id": "2PhS1FMQB27P"
      }
    },
    {
      "cell_type": "code",
      "source": [
        "# Use an import statement to import statsmodels\n",
        "import statsmodels\n",
        "\n",
        "# Import statsmodels under the alias sm\n",
        "import statsmodels as sm\n",
        "\n",
        "# Use an import statement to import seaborn with alias sns\n",
        "import seaborn as sns"
      ],
      "metadata": {
        "id": "6k1317ljAefC"
      },
      "execution_count": null,
      "outputs": []
    },
    {
      "cell_type": "code",
      "source": [
        "# import of numpy to np\n",
        "import numpy as np"
      ],
      "metadata": {
        "id": "wj_yKoOdAlg1"
      },
      "execution_count": null,
      "outputs": []
    },
    {
      "cell_type": "markdown",
      "source": [
        "## **Creating a float**"
      ],
      "metadata": {
        "id": "9EuJYzLvCXTP"
      }
    },
    {
      "cell_type": "markdown",
      "source": [
        "Before we start looking for Bayes' kidnapper, we need to fill out a Missing Puppy Report with details of the case. Each piece of information will be stored as a variable.\n",
        "\n",
        "We define a variable using an equals sign (=). For instance, we would define the variable height:\n",
        "\n",
        "height = 24\n",
        "In this exercise, we'll be defining bayes_age to be 4.0 months old. The data type for this variable will be float, meaning that it is a number."
      ],
      "metadata": {
        "id": "WT4eNkWgAuRA"
      }
    },
    {
      "cell_type": "markdown",
      "source": [
        "Define a variable called bayes_age and set it equal to 4.0. <br>\n",
        "Display the variable bayes_age."
      ],
      "metadata": {
        "id": "H8iOaroDAxU2"
      }
    },
    {
      "cell_type": "code",
      "source": [
        "# Fill in Bayes' age (4.0)\n",
        "bayes_age = 4.0\n",
        "\n",
        "# Display the variable bayes\n",
        "print(bayes_age)"
      ],
      "metadata": {
        "id": "H3HD19ReAtaY"
      },
      "execution_count": null,
      "outputs": []
    },
    {
      "cell_type": "markdown",
      "source": [
        "## **Creating strings**\n",
        "Let's continue to fill out the Missing Puppy Report for Bayes. In the previous exercise, we defined bayes_age, which was a float, which represents a number.\n",
        "\n",
        "In this exercise, we'll define favorite_toy and owner, which will both be strings. A string represents text. A string is surrounded by quotation marks (' or \") and can contain letters, numbers, and special characters. It doesn't matter if you use single (') or double (\") quotes, but it's important to be consistent throughout your code."
      ],
      "metadata": {
        "id": "opCHk9EpA4-9"
      }
    },
    {
      "cell_type": "markdown",
      "source": [
        "Define a variable called favorite_toy whose value is \"Mr. Squeaky\". <br>\n",
        "Define a variable called owner whose value is 'DataCamp'. <br>\n",
        "Show the values assigned to these variables."
      ],
      "metadata": {
        "id": "QQlo3G2jA62_"
      }
    },
    {
      "cell_type": "code",
      "source": [
        "# Bayes' favorite toy\n",
        "favorite_toy = \"Mr. Squeaky\"\n",
        "\n",
        "# Bayes' owner\n",
        "owner = 'DataCamp'\n",
        "\n",
        "# Display variables\n",
        "print(favorite_toy)\n",
        "print(owner)"
      ],
      "metadata": {
        "id": "MDlXbkCIA_g4"
      },
      "execution_count": null,
      "outputs": []
    },
    {
      "cell_type": "markdown",
      "source": [
        "Correcting string errors\n",
        "It's easy to make errors when you're trying to type strings quickly.\n",
        "\n",
        "Don't forget to use quotes! Without quotes, you'll get a name error. <br>\n",
        "owner = DataCamp <br>\n",
        "Use the same type of quotation mark. If you start with a single quote, and end with a double quote, you'll get a syntax error. <br>\n",
        "fur_color = \"blonde' <br>\n",
        "Someone at the police station made an error when filling out the final lines of Bayes' Missing Puppy Report. In this exercise, you will correct the errors."
      ],
      "metadata": {
        "id": "EQ8zo09gBCUy"
      }
    },
    {
      "cell_type": "code",
      "source": [
        "# One or more of the following lines contains an error\n",
        "# Correct it so that it runs without producing syntax errors\n",
        "birthday = \"2017-07-14\"\n",
        "case_id = 'DATACAMP!123-456?'"
      ],
      "metadata": {
        "id": "n3JoNW0eBMP1"
      },
      "execution_count": null,
      "outputs": []
    },
    {
      "cell_type": "markdown",
      "source": [
        "## **Load a DataFrame**\n",
        "A ransom note was left at the scene of Bayes' kidnapping. Eventually, we'll want to analyze the frequency with which each letter occurs in the note, to help us identify the kidnapper. For now, we just need to load the data from ransom.csv into Python.\n",
        "\n",
        "We'll load the data into a DataFrame, a special data type from the pandas module. It represents spreadsheet-like data (something with rows and columns).\n",
        "\n",
        "We can create a DataFrame from a CSV (comma-separated value) file by using the function pd.read_csv()."
      ],
      "metadata": {
        "id": "hdk2JpxDBaCP"
      }
    },
    {
      "cell_type": "markdown",
      "source": [
        "Use pd.read_csv() to load data from a CSV file called ransom.csv. This file represents the frequency of each letter in the ransom note for Bayes."
      ],
      "metadata": {
        "id": "YgIJkJoMBbfJ"
      }
    },
    {
      "cell_type": "code",
      "source": [
        "# Import pandas\n",
        "import pandas as pd\n",
        "\n",
        "# Load the 'ransom.csv' into a DataFrame\n",
        "r = pd.read_csv('ransom.csv')\n",
        "\n",
        "# Display DataFrame\n",
        "print(r)"
      ],
      "metadata": {
        "id": "wkbZ5llmBXOa"
      },
      "execution_count": null,
      "outputs": []
    },
    {
      "cell_type": "markdown",
      "source": [
        "## **Snooping for suspects**\n",
        "We need to narrow down the list of suspects for the kidnapping of Bayes. Once we have a list of suspects, we'll ask them for writing samples and compare them to the ransom note.\n",
        "\n",
        "A witness to the crime noticed a green truck leaving the scene of the crime whose license plate began with 'FRQ'. We'll use this information to search for some suspects.\n",
        "\n",
        "As a detective, you have access to a special function called lookup_plate.\n",
        "\n",
        "lookup_plate accepts one positional argument: A string representing a license plate."
      ],
      "metadata": {
        "id": "kvQnkUszBfeu"
      }
    },
    {
      "cell_type": "markdown",
      "source": [
        "Create a variable called plate that represents the observed license plate: the first three letters were FRQ, but the witness couldn't see the final 4 letters. Use asterisks (*) to represent missing letters."
      ],
      "metadata": {
        "id": "TbdWAUWuBreI"
      }
    },
    {
      "cell_type": "code",
      "source": [
        "# Define plate to represent a plate beginning with FRQ\n",
        "# Use * to represent the missing four letters\n",
        "plate = \"FRQ****\""
      ],
      "metadata": {
        "id": "fpNPZruyBYck"
      },
      "execution_count": null,
      "outputs": []
    },
    {
      "cell_type": "markdown",
      "source": [],
      "metadata": {
        "id": "CB6InsBNBtaz"
      }
    }
  ]
}