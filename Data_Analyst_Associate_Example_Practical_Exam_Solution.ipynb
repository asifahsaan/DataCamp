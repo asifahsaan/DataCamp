{
  "cells": [
    {
      "cell_type": "markdown",
      "metadata": {
        "id": "view-in-github",
        "colab_type": "text"
      },
      "source": [
        "<a href=\"https://colab.research.google.com/github/asifahsaan/DataCamp/blob/main/Data_Analyst_Associate_Example_Practical_Exam_Solution.ipynb\" target=\"_parent\"><img src=\"https://colab.research.google.com/assets/colab-badge.svg\" alt=\"Open In Colab\"/></a>"
      ]
    },
    {
      "source": [
        "# Data Analyst Associate \n",
        "## Example Practical Exam Solution\n",
        "\n",
        "You can find the project information that accompanies this example solution in the resource center, [Practical Exam Resources](https://app.datacamp.com/certification/resource-center/practical-exam-resources).\n",
        "\n",
        "**You can use any tool that you want to do your analysis and create visualizations. Use this template to write up your summary for submission.**\n",
        "\n",
        "You can use any markdown formatting you wish. If you are not familiar with Markdown, read the [Markdown Guide](https://s3.amazonaws.com/talent-assets.datacamp.com/Markdown+Guide.pdf) before you start.\n",
        "\n"
      ],
      "metadata": {
        "tags": [],
        "id": "a5b3bc0e-b993-4ee3-bd07-825a474bd0d9"
      },
      "id": "a5b3bc0e-b993-4ee3-bd07-825a474bd0d9",
      "cell_type": "markdown"
    },
    {
      "source": [
        "## Data Validation\n",
        "Describe the validation tasks you performed and what you found. Have you made any changes to the data to enable further analysis? Remember to describe what you did for every column in the data. \n",
        "\n",
        "*Write your description here*\n",
        "\n",
        "The original data is **200** rows and **9 columns**. The first thing I did was to remove rows that should be excluded according to the data set description.\n",
        "I first removed rows where the Review value was missing. This was 2 rows, leaving 198 rows of data.\n",
        "I also switched missing values in the Dine in option and Takeaway option with False. There were no values that were false originally so this correctly made these columns True/False values\n",
        "Looking at the remaining columns: \n",
        " - There were 10 unique regions, as expected\n",
        " - There were 4 place types, as expected\n",
        " - There were 185 unique place names, suggesting that some names are duplicated, this should be confirmed with the team providing the data\n",
        " - Rating values range from 3.9 to 5.0, so all are within the range expected\n",
        " - There are 3 price categories, as expected\n",
        " - There are 2 delivery options - True/False, as expected.\n",
        " \n"
      ],
      "metadata": {
        "jp-MarkdownHeadingCollapsed": true,
        "tags": [],
        "id": "d1b1a012-1ccb-40e7-a1ad-77b60b256690"
      },
      "id": "d1b1a012-1ccb-40e7-a1ad-77b60b256690",
      "cell_type": "markdown"
    },
    {
      "source": [
        "## Data Discovery and Visualization\n",
        "Describe what you found in the analysis and how the visualizations answer the customer questions in the project brief. In your description you should:\n",
        "- Include at least two different data visualizations to demonstrate the characteristics of variables\n",
        "- Include at least one data visualization to demonstrate the relationship between two or more variables\n",
        "- Describe how your analysis has answered the business questions in the project brief\n",
        "\n",
        "*Write your description here*\n",
        "\n",
        "### What is the most common place type in this local market?\n",
        "\n",
        "There are four possible types of store included in this data. The most common type listed is a coffee shop, with cafe being second although with half the number of locations. This would suggest that the team should focus on distributing their new cups in coffee shops as they are more common. \n",
        "\n",
        "![NameofImage](CommonTypes.png)\n",
        "\n",
        "\n",
        "**How does the range in number of reviews differ across all shops?**\n",
        "\n",
        "As the marketing team thinks that the number of reviews a place gets will be important, we should look at how the number of reviews is distributed. Looking at all reviews, we can see that most places have had less than 1000 reviews. There are some outliers that get more than 3000 reviews but this is very uncommon. When looking for places that have high reviews the team should aim for locations having over 1000 reviews, but be aware they may need to work with 500 reviews or more. \n",
        "\n",
        "![Range](RangeNoOutlier.png)\n",
        "\n",
        "**How does the number of reviews vary across each place type?**\n",
        "\n",
        "Finally we want to combine the two pieces of information to see how the place type impacts number of reviews. So far coffee shops with over 1000 reviews would be ideal but we need to look at the two variables together to see if this is realistic.\n",
        "\n",
        "When looking at just the reviews we excluded a single outlying value so that we could see the majority of the data. To show the impact, we can look at the range of number of reviews by place with this outlier in the data. In the graphic below you can see that this outlier is dominating the data and making comparison difficult. To make it easier to compare the rest of the data, we will remove this outlier.\n",
        "\n",
        "![Placeholder](RangeByPlaceWithOutlier.png)\n",
        "\n",
        "After we remove the outlier we can focus on the main range of data. Although Coffee Shops do include the place types with the largest number of reviews, the interquartile range of the number of reviews is lower than Cafe and espresso bar types. This would suggest that the majority of the number of reviews may be lower than other types. However, this could also be an effect of having the largest number of locations, so the large number of low review locations brings the median down.  \n",
        "\n",
        "![Range By Place](RangeByPlaceNoOutlier.png)\n",
        "\n",
        "Based on all of the above, we would recommend that the team focus on coffee shops with reviews over 1000 to start, but also keeps an open mind to including cafes and espresso bars with high reviews. Further analysis should be done to understand if store type really does impact the number of reviews. The team should also consider including their cups in stores with lower reviews so that we can further analyze whether reviews has any impact over the popularity of the new cups.  \n"
      ],
      "metadata": {
        "tags": [],
        "id": "714a7083-7a43-4b0b-8ed4-2675efc87691"
      },
      "id": "714a7083-7a43-4b0b-8ed4-2675efc87691",
      "cell_type": "markdown"
    },
    {
      "source": [
        "## ✅ When you have finished...\n",
        "-  Publish your Workspace using the option on the left\n",
        "-  Check the published version of your report:\n",
        "\t-  Can you see everything you want us to grade?\n",
        "    -  Are all the graphics visible?\n",
        "-  Review the grading rubric. Have you included everything that will be graded?\n",
        "-  Head back to the [Certification Dashboard](https://app.datacamp.com/certification) to submit your practical"
      ],
      "metadata": {
        "tags": [],
        "id": "f635131a-00f8-44dd-b610-509db41c1154"
      },
      "id": "f635131a-00f8-44dd-b610-509db41c1154",
      "cell_type": "markdown"
    }
  ],
  "metadata": {
    "language_info": {
      "name": "python",
      "version": "3.8.10",
      "mimetype": "text/x-python",
      "codemirror_mode": {
        "name": "ipython",
        "version": 3
      },
      "pygments_lexer": "ipython3",
      "nbconvert_exporter": "python",
      "file_extension": ".py"
    },
    "kernelspec": {
      "display_name": "Python 3 (ipykernel)",
      "language": "python",
      "name": "python3"
    },
    "editor": "DataCamp Workspace",
    "colab": {
      "provenance": [],
      "include_colab_link": true
    }
  },
  "nbformat": 4,
  "nbformat_minor": 5
}